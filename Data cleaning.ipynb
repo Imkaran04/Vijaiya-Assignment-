{
 "cells": [
  {
   "cell_type": "code",
   "execution_count": 2,
   "metadata": {},
   "outputs": [],
   "source": [
    "import pandas as pd"
   ]
  },
  {
   "cell_type": "code",
   "execution_count": 4,
   "metadata": {},
   "outputs": [
    {
     "data": {
      "text/html": [
       "<div>\n",
       "<style scoped>\n",
       "    .dataframe tbody tr th:only-of-type {\n",
       "        vertical-align: middle;\n",
       "    }\n",
       "\n",
       "    .dataframe tbody tr th {\n",
       "        vertical-align: top;\n",
       "    }\n",
       "\n",
       "    .dataframe thead th {\n",
       "        text-align: right;\n",
       "    }\n",
       "</style>\n",
       "<table border=\"1\" class=\"dataframe\">\n",
       "  <thead>\n",
       "    <tr style=\"text-align: right;\">\n",
       "      <th></th>\n",
       "      <th>Text</th>\n",
       "      <th>Classification</th>\n",
       "    </tr>\n",
       "  </thead>\n",
       "  <tbody>\n",
       "    <tr>\n",
       "      <th>0</th>\n",
       "      <td>i didnt feel humiliated</td>\n",
       "      <td>sadness</td>\n",
       "    </tr>\n",
       "    <tr>\n",
       "      <th>1</th>\n",
       "      <td>i can go from feeling so hopeless to so damned...</td>\n",
       "      <td>sadness</td>\n",
       "    </tr>\n",
       "    <tr>\n",
       "      <th>2</th>\n",
       "      <td>im grabbing a minute to post i feel greedy wrong</td>\n",
       "      <td>anger</td>\n",
       "    </tr>\n",
       "    <tr>\n",
       "      <th>3</th>\n",
       "      <td>i am ever feeling nostalgic about the fireplac...</td>\n",
       "      <td>love</td>\n",
       "    </tr>\n",
       "    <tr>\n",
       "      <th>4</th>\n",
       "      <td>i am feeling grouchy</td>\n",
       "      <td>anger</td>\n",
       "    </tr>\n",
       "  </tbody>\n",
       "</table>\n",
       "</div>"
      ],
      "text/plain": [
       "                                                Text Classification\n",
       "0                            i didnt feel humiliated        sadness\n",
       "1  i can go from feeling so hopeless to so damned...        sadness\n",
       "2   im grabbing a minute to post i feel greedy wrong          anger\n",
       "3  i am ever feeling nostalgic about the fireplac...           love\n",
       "4                               i am feeling grouchy          anger"
      ]
     },
     "execution_count": 4,
     "metadata": {},
     "output_type": "execute_result"
    }
   ],
   "source": [
    "df = pd.read_csv('./csv file/Assignment  Data.csv')\n",
    "df.head(5)"
   ]
  },
  {
   "cell_type": "code",
   "execution_count": 5,
   "metadata": {},
   "outputs": [],
   "source": [
    "# Identify the duplicate records based on the \"Text\" column and save them in csv format\n",
    "duplicates = df[df.duplicated(subset=\"Text\", keep=False)]\n",
    "\n",
    "# Save duplicates into a new CSV file and removing the duplicates while keeping only the first occurrence \n",
    "duplicates.to_csv('duplicates.csv', index=False)\n",
    "df = df.drop_duplicates(subset=\"Text\", keep='first')\n",
    "\n"
   ]
  },
  {
   "cell_type": "code",
   "execution_count": 6,
   "metadata": {},
   "outputs": [],
   "source": [
    "# Checking for null values and removing them\n",
    "\n",
    "null_rows = df[df.isnull().any(axis=1)]\n",
    "df_clean = df.dropna()\n",
    "\n",
    "# Save the cleaned data back to the .csv file\n",
    "df_clean.to_csv('cleaned data.csv', index=False)\n"
   ]
  },
  {
   "cell_type": "code",
   "execution_count": null,
   "metadata": {},
   "outputs": [],
   "source": []
  },
  {
   "cell_type": "code",
   "execution_count": 7,
   "metadata": {},
   "outputs": [
    {
     "name": "stdout",
     "output_type": "stream",
     "text": [
      "['sadness' 'anger' 'love' 'surprise' 'fear' 'joy']\n"
     ]
    },
    {
     "data": {
      "text/html": [
       "<div>\n",
       "<style scoped>\n",
       "    .dataframe tbody tr th:only-of-type {\n",
       "        vertical-align: middle;\n",
       "    }\n",
       "\n",
       "    .dataframe tbody tr th {\n",
       "        vertical-align: top;\n",
       "    }\n",
       "\n",
       "    .dataframe thead th {\n",
       "        text-align: right;\n",
       "    }\n",
       "</style>\n",
       "<table border=\"1\" class=\"dataframe\">\n",
       "  <thead>\n",
       "    <tr style=\"text-align: right;\">\n",
       "      <th></th>\n",
       "      <th>Text</th>\n",
       "      <th>Classification</th>\n",
       "    </tr>\n",
       "  </thead>\n",
       "  <tbody>\n",
       "    <tr>\n",
       "      <th>0</th>\n",
       "      <td>i didnt feel humiliated</td>\n",
       "      <td>sadness</td>\n",
       "    </tr>\n",
       "    <tr>\n",
       "      <th>1</th>\n",
       "      <td>i can go from feeling so hopeless to so damned...</td>\n",
       "      <td>sadness</td>\n",
       "    </tr>\n",
       "    <tr>\n",
       "      <th>2</th>\n",
       "      <td>im grabbing a minute to post i feel greedy wrong</td>\n",
       "      <td>anger</td>\n",
       "    </tr>\n",
       "    <tr>\n",
       "      <th>3</th>\n",
       "      <td>i am ever feeling nostalgic about the fireplac...</td>\n",
       "      <td>love</td>\n",
       "    </tr>\n",
       "    <tr>\n",
       "      <th>4</th>\n",
       "      <td>i am feeling grouchy</td>\n",
       "      <td>anger</td>\n",
       "    </tr>\n",
       "    <tr>\n",
       "      <th>5</th>\n",
       "      <td>ive been feeling a little burdened lately wasn...</td>\n",
       "      <td>sadness</td>\n",
       "    </tr>\n",
       "    <tr>\n",
       "      <th>6</th>\n",
       "      <td>ive been taking or milligrams or times recomme...</td>\n",
       "      <td>surprise</td>\n",
       "    </tr>\n",
       "    <tr>\n",
       "      <th>7</th>\n",
       "      <td>i feel as confused about life as a teenager or...</td>\n",
       "      <td>fear</td>\n",
       "    </tr>\n",
       "    <tr>\n",
       "      <th>8</th>\n",
       "      <td>i have been with petronas for years i feel tha...</td>\n",
       "      <td>joy</td>\n",
       "    </tr>\n",
       "    <tr>\n",
       "      <th>9</th>\n",
       "      <td>i feel romantic too</td>\n",
       "      <td>love</td>\n",
       "    </tr>\n",
       "  </tbody>\n",
       "</table>\n",
       "</div>"
      ],
      "text/plain": [
       "                                                Text Classification\n",
       "0                            i didnt feel humiliated        sadness\n",
       "1  i can go from feeling so hopeless to so damned...        sadness\n",
       "2   im grabbing a minute to post i feel greedy wrong          anger\n",
       "3  i am ever feeling nostalgic about the fireplac...           love\n",
       "4                               i am feeling grouchy          anger\n",
       "5  ive been feeling a little burdened lately wasn...        sadness\n",
       "6  ive been taking or milligrams or times recomme...       surprise\n",
       "7  i feel as confused about life as a teenager or...           fear\n",
       "8  i have been with petronas for years i feel tha...            joy\n",
       "9                                i feel romantic too           love"
      ]
     },
     "execution_count": 7,
     "metadata": {},
     "output_type": "execute_result"
    }
   ],
   "source": [
    "# checking the lavle column \n",
    "print(df['Classification'].unique())\n",
    "df.head(10)\n"
   ]
  },
  {
   "cell_type": "markdown",
   "metadata": {},
   "source": [
    "# Removing Profanity "
   ]
  },
  {
   "cell_type": "code",
   "execution_count": 8,
   "metadata": {},
   "outputs": [
    {
     "name": "stdout",
     "output_type": "stream",
     "text": [
      "                                                    Text Classification\n",
      "21     i am feeling completely overwhelmed i have two...           fear\n",
      "34     i can t imagine a real life scenario where i w...            joy\n",
      "43     i feel very strongly passionate about when som...            joy\n",
      "56     i hate living under my dads roof because it gi...        sadness\n",
      "58     i have this feeling that if i have anymore vig...            joy\n",
      "...                                                  ...            ...\n",
      "17890  i was feeling a bit jaded that day but told my...        sadness\n",
      "17926                      im feeling so damn gloomy too        sadness\n",
      "17936  i dont want to always be judgmental of particu...        sadness\n",
      "17948  i really feel like they were gentle reminders ...           love\n",
      "17950  i feel tortured delilahlwl am considering i ha...          anger\n",
      "\n",
      "[995 rows x 2 columns]\n"
     ]
    }
   ],
   "source": [
    "from better_profanity import profanity\n",
    "\n",
    "# Load the profanity wordlist\n",
    "profanity.load_censor_words()\n",
    "\n",
    "def contains_profanity(text):\n",
    "    return profanity.contains_profanity(text)\n",
    "\n",
    "# Load the CSV file into a DataFrame\n",
    "df = pd.read_csv('cleaned data.csv')\n",
    "\n",
    "# Filter rows with profanity\n",
    "profane_rows = df[df['Text'].apply(contains_profanity)]\n",
    "\n",
    "# Display the removed records\n",
    "print(profane_rows)\n",
    "\n",
    "# Remove the rows with profanities\n",
    "clean_df = df[~df['Text'].apply(contains_profanity)]\n",
    "\n",
    "# Save the cleaned data back to the .csv file\n",
    "clean_df.to_csv('2nd cleaned data.csv', index=False)\n"
   ]
  },
  {
   "cell_type": "code",
   "execution_count": 9,
   "metadata": {},
   "outputs": [],
   "source": [
    "#Saving the pro to csv file \n",
    "profane_rows.to_csv('profane_rows.csv', index=False)\n"
   ]
  },
  {
   "cell_type": "markdown",
   "metadata": {},
   "source": [
    "### checking for the Text does not make sense or it is grammatically incorrect or it has sentences that are incomplete"
   ]
  },
  {
   "cell_type": "code",
   "execution_count": 10,
   "metadata": {},
   "outputs": [],
   "source": [
    "data = pd.read_csv(\"2nd cleaned data.csv\")"
   ]
  },
  {
   "cell_type": "code",
   "execution_count": 5,
   "metadata": {},
   "outputs": [],
   "source": [
    "import pandas as pd\n",
    "import spacy\n",
    "from spellchecker import SpellChecker\n",
    "\n",
    "# Load the Spacy model\n",
    "nlp = spacy.load(\"c:\\Program Files\\Python39\\Lib\\site-packages\\en_core_web_sm\\en_core_web_sm-3.0.0\")\n",
    "\n",
    "# Initialize the SpellChecker\n",
    "spell = SpellChecker()\n",
    "\n",
    "# Function to detect spelling errors\n",
    "def has_spelling_errors(text):\n",
    "    misspelled = spell.unknown(text.split())\n",
    "    return bool(misspelled)\n",
    "\n",
    "# Function to detect incomplete sentences\n",
    "def is_incomplete_sentence(text):\n",
    "    doc = nlp(text)\n",
    "    \n",
    "    # Check if the sentence doesn't end with typical ending punctuation\n",
    "    no_punctuation = doc[-1].text not in [\".\", \"?\", \"!\"]\n",
    "    \n",
    "    # Check if the last word is potentially truncated or misspelled\n",
    "    last_word_truncated = spell.unknown([doc[-1].text])\n",
    "    \n",
    "    return no_punctuation or last_word_truncated\n",
    "\n",
    "# Apply the functions to the data and create new columns\n",
    "data = pd.read_csv(\"2nd cleaned data.csv\")\n",
    "data['Has_Spelling_Errors'] = data['Text'].apply(has_spelling_errors)\n",
    "data['Is_Incomplete'] = data['Text'].apply(is_incomplete_sentence)\n",
    "\n",
    "# Save the records with errors to a new file\n",
    "data_with_errors = data[(data['Has_Spelling_Errors'] == True) | (data['Is_Incomplete'] == True)]\n",
    "data_with_errors.to_csv(\"data_with_errors.csv\", index=False)\n"
   ]
  },
  {
   "cell_type": "code",
   "execution_count": 6,
   "metadata": {},
   "outputs": [
    {
     "data": {
      "text/html": [
       "<div>\n",
       "<style scoped>\n",
       "    .dataframe tbody tr th:only-of-type {\n",
       "        vertical-align: middle;\n",
       "    }\n",
       "\n",
       "    .dataframe tbody tr th {\n",
       "        vertical-align: top;\n",
       "    }\n",
       "\n",
       "    .dataframe thead th {\n",
       "        text-align: right;\n",
       "    }\n",
       "</style>\n",
       "<table border=\"1\" class=\"dataframe\">\n",
       "  <thead>\n",
       "    <tr style=\"text-align: right;\">\n",
       "      <th></th>\n",
       "      <th>Text</th>\n",
       "      <th>Classification</th>\n",
       "      <th>Has_Spelling_Errors</th>\n",
       "      <th>Is_Incomplete</th>\n",
       "    </tr>\n",
       "  </thead>\n",
       "  <tbody>\n",
       "    <tr>\n",
       "      <th>0</th>\n",
       "      <td>i didnt feel humiliated</td>\n",
       "      <td>sadness</td>\n",
       "      <td>True</td>\n",
       "      <td>True</td>\n",
       "    </tr>\n",
       "    <tr>\n",
       "      <th>1</th>\n",
       "      <td>i can go from feeling so hopeless to so damned...</td>\n",
       "      <td>sadness</td>\n",
       "      <td>False</td>\n",
       "      <td>True</td>\n",
       "    </tr>\n",
       "    <tr>\n",
       "      <th>2</th>\n",
       "      <td>im grabbing a minute to post i feel greedy wrong</td>\n",
       "      <td>anger</td>\n",
       "      <td>False</td>\n",
       "      <td>True</td>\n",
       "    </tr>\n",
       "    <tr>\n",
       "      <th>3</th>\n",
       "      <td>i am ever feeling nostalgic about the fireplac...</td>\n",
       "      <td>love</td>\n",
       "      <td>False</td>\n",
       "      <td>True</td>\n",
       "    </tr>\n",
       "    <tr>\n",
       "      <th>4</th>\n",
       "      <td>i am feeling grouchy</td>\n",
       "      <td>anger</td>\n",
       "      <td>False</td>\n",
       "      <td>True</td>\n",
       "    </tr>\n",
       "    <tr>\n",
       "      <th>5</th>\n",
       "      <td>ive been feeling a little burdened lately wasn...</td>\n",
       "      <td>sadness</td>\n",
       "      <td>True</td>\n",
       "      <td>True</td>\n",
       "    </tr>\n",
       "    <tr>\n",
       "      <th>6</th>\n",
       "      <td>ive been taking or milligrams or times recomme...</td>\n",
       "      <td>surprise</td>\n",
       "      <td>False</td>\n",
       "      <td>True</td>\n",
       "    </tr>\n",
       "    <tr>\n",
       "      <th>7</th>\n",
       "      <td>i feel as confused about life as a teenager or...</td>\n",
       "      <td>fear</td>\n",
       "      <td>False</td>\n",
       "      <td>True</td>\n",
       "    </tr>\n",
       "  </tbody>\n",
       "</table>\n",
       "</div>"
      ],
      "text/plain": [
       "                                                Text Classification  \\\n",
       "0                            i didnt feel humiliated        sadness   \n",
       "1  i can go from feeling so hopeless to so damned...        sadness   \n",
       "2   im grabbing a minute to post i feel greedy wrong          anger   \n",
       "3  i am ever feeling nostalgic about the fireplac...           love   \n",
       "4                               i am feeling grouchy          anger   \n",
       "5  ive been feeling a little burdened lately wasn...        sadness   \n",
       "6  ive been taking or milligrams or times recomme...       surprise   \n",
       "7  i feel as confused about life as a teenager or...           fear   \n",
       "\n",
       "   Has_Spelling_Errors  Is_Incomplete  \n",
       "0                 True           True  \n",
       "1                False           True  \n",
       "2                False           True  \n",
       "3                False           True  \n",
       "4                False           True  \n",
       "5                 True           True  \n",
       "6                False           True  \n",
       "7                False           True  "
      ]
     },
     "execution_count": 6,
     "metadata": {},
     "output_type": "execute_result"
    }
   ],
   "source": [
    "data.head(8)\n"
   ]
  },
  {
   "cell_type": "code",
   "execution_count": 12,
   "metadata": {},
   "outputs": [
    {
     "name": "stderr",
     "output_type": "stream",
     "text": [
      "C:\\Users\\Karan Singh\\AppData\\Local\\Temp\\ipykernel_33232\\1167964654.py:2: FutureWarning: DataFrame.applymap has been deprecated. Use DataFrame.map instead.\n",
      "  data = data.applymap(lambda s: s.lower() if isinstance(s, str) else s)\n"
     ]
    }
   ],
   "source": [
    "# Convert all textual data to lowercase\n",
    "data = data.applymap(lambda s: s.lower() if isinstance(s, str) else s)\n",
    "\n",
    "# Save the modified data back to CSV\n",
    "data.to_csv('cleaned data.csv', index=False)"
   ]
  },
  {
   "cell_type": "code",
   "execution_count": null,
   "metadata": {},
   "outputs": [],
   "source": []
  }
 ],
 "metadata": {
  "kernelspec": {
   "display_name": ".venv",
   "language": "python",
   "name": "python3"
  },
  "language_info": {
   "codemirror_mode": {
    "name": "ipython",
    "version": 3
   },
   "file_extension": ".py",
   "mimetype": "text/x-python",
   "name": "python",
   "nbconvert_exporter": "python",
   "pygments_lexer": "ipython3",
   "version": "3.9.13"
  }
 },
 "nbformat": 4,
 "nbformat_minor": 2
}
